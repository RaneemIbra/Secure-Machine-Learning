{
  "cells": [
    {
      "cell_type": "markdown",
      "metadata": {
        "id": "tpYqYwyO6HuQ"
      },
      "source": [
        "installing tenseal to use in Part B\n"
      ]
    },
    {
      "cell_type": "code",
      "execution_count": null,
      "metadata": {
        "colab": {
          "base_uri": "https://localhost:8080/"
        },
        "id": "X6rM8-Iw6HD3",
        "outputId": "828c158b-3e88-4328-c215-7d31f648d016"
      },
      "outputs": [
        {
          "name": "stdout",
          "output_type": "stream",
          "text": [
            "Collecting tenseal\n",
            "  Downloading tenseal-0.3.15-cp310-cp310-manylinux_2_27_x86_64.manylinux_2_28_x86_64.whl.metadata (8.2 kB)\n",
            "Downloading tenseal-0.3.15-cp310-cp310-manylinux_2_27_x86_64.manylinux_2_28_x86_64.whl (4.8 MB)\n",
            "\u001b[2K   \u001b[90m━━━━━━━━━━━━━━━━━━━━━━━━━━━━━━━━━━━━━━━━\u001b[0m \u001b[32m4.8/4.8 MB\u001b[0m \u001b[31m32.8 MB/s\u001b[0m eta \u001b[36m0:00:00\u001b[0m\n",
            "\u001b[?25hInstalling collected packages: tenseal\n",
            "Successfully installed tenseal-0.3.15\n"
          ]
        }
      ],
      "source": [
        "#!pip install tenseal"
      ]
    },
    {
      "cell_type": "code",
      "execution_count": 4,
      "metadata": {
        "colab": {
          "base_uri": "https://localhost:8080/"
        },
        "id": "SP8ig5Jt6Aem",
        "outputId": "d9edb3fa-be83-41c9-9f04-2d5d9d8889fc"
      },
      "outputs": [
        {
          "name": "stdout",
          "output_type": "stream",
          "text": [
            "Encryption context created successfully!\n",
            "\n",
            "Accuracy Results:\n",
            "Euclidean Accuracy: Avg=1.3057538464522622e-06, Std=1.4616033841050174e-08, Max=1.3658752635592464e-06\n",
            "Cosine Accuracy: Avg=9.407328938060288e-10, Std=3.6275047284677577e-10, Max=1.6695959059731535e-09\n",
            "\n",
            "Runtime Results:\n",
            "Generation Runtime: Avg=0.0001s, Std=0.0002s, Max=0.0010s\n",
            "Encryption Runtime: Avg=0.0107s, Std=0.0014s, Max=0.0170s\n",
            "Computation Runtime: Avg=0.0934s, Std=0.0105s, Max=0.1384s\n",
            "Decryption Runtime: Avg=0.0000s, Std=0.0000s, Max=0.0000s\n",
            "\n",
            "Cleartext Results:\n",
            "Euclidean Distance (Cleartext): 18.356666544935315\n",
            "Cosine Similarity (Cleartext): 0.7561546739385002\n"
          ]
        }
      ],
      "source": [
        "import numpy as np\n",
        "import tenseal as ts\n",
        "import time\n",
        "import statistics\n",
        "\n",
        "# Generate a large set of synthetic data to simulate biometric embeddings\n",
        "num_vectors = 13233  # Total number of vectors\n",
        "vector_dim = 2048  # Number of features per vector\n",
        "\n",
        "# Set up the encryption context for CKKS, which allows secure computations on encrypted data\n",
        "context = ts.context(\n",
        "    ts.SCHEME_TYPE.CKKS,\n",
        "    poly_modulus_degree=8192,\n",
        "    coeff_mod_bit_sizes=[60, 40, 40, 60]\n",
        ")\n",
        "context.global_scale = 2**40  # Controls precision\n",
        "context.generate_galois_keys()  # Enables advanced encrypted operations\n",
        "ts.global_context = context\n",
        "print(\"Encryption context created successfully!\")\n",
        "\n",
        "# Define a function to compute Euclidean Distance securely\n",
        "def homomorphic_euclidean_distance(enc_vec1, enc_vec2):\n",
        "    diff = enc_vec1 - enc_vec2\n",
        "    squared_diff = diff * diff\n",
        "    sum_squared_diff = squared_diff.sum()\n",
        "    decrypted_sum = sum_squared_diff.decrypt()[0]\n",
        "    return decrypted_sum ** 0.5\n",
        "\n",
        "# Define a function to compute Cosine Similarity securely\n",
        "def homomorphic_cosine_similarity(enc_vec1, enc_vec2):\n",
        "    dot_product = (enc_vec1 * enc_vec2).sum()\n",
        "    norm1 = (enc_vec1 * enc_vec1).sum()\n",
        "    norm2 = (enc_vec2 * enc_vec2).sum()\n",
        "    decrypted_dot_product = dot_product.decrypt()[0]\n",
        "    decrypted_norm1 = norm1.decrypt()[0]\n",
        "    decrypted_norm2 = norm2.decrypt()[0]\n",
        "    return decrypted_dot_product / (\n",
        "        (decrypted_norm1 ** 0.5) * (decrypted_norm2 ** 0.5)\n",
        "    )\n",
        "\n",
        "# Store accuracy and runtime results for analysis\n",
        "accuracy_results = {\"Euclidean\": [], \"Cosine\": []}\n",
        "runtime_results = {\"Generation\": [], \"Encryption\": [], \"Computation\": [], \"Decryption\": []}\n",
        "\n",
        "# Run the tests multiple times to get reliable statistics\n",
        "repetitions = 100\n",
        "for _ in range(repetitions):\n",
        "    start_time = time.time()\n",
        "\n",
        "    # Create two random vectors to simulate data\n",
        "    vector1 = np.random.uniform(0.0, 1.0, size=vector_dim)\n",
        "    vector2 = np.random.uniform(0.0, 1.0, size=vector_dim)\n",
        "    runtime_results[\"Generation\"].append(time.time() - start_time)\n",
        "\n",
        "    # Encrypt both vectors\n",
        "    start_time = time.time()\n",
        "    enc_vec1 = ts.ckks_vector(context, vector1)\n",
        "    enc_vec2 = ts.ckks_vector(context, vector2)\n",
        "    runtime_results[\"Encryption\"].append(time.time() - start_time)\n",
        "\n",
        "    # Compute similarity metrics on encrypted data\n",
        "    start_time = time.time()\n",
        "    euclidean_result = homomorphic_euclidean_distance(enc_vec1, enc_vec2)\n",
        "    cosine_result = homomorphic_cosine_similarity(enc_vec1, enc_vec2)\n",
        "    runtime_results[\"Computation\"].append(time.time() - start_time)\n",
        "\n",
        "    # Decrypt the results for validation\n",
        "    start_time = time.time()\n",
        "    runtime_results[\"Decryption\"].append(time.time() - start_time)\n",
        "\n",
        "    # Compare encrypted results with cleartext results to measure accuracy\n",
        "    cleartext_euclidean = np.sqrt(np.sum((vector1 - vector2) ** 2))\n",
        "    cleartext_cosine = np.dot(vector1, vector2) / (np.linalg.norm(vector1) * np.linalg.norm(vector2))\n",
        "    accuracy_results[\"Euclidean\"].append(abs(euclidean_result - cleartext_euclidean))\n",
        "    accuracy_results[\"Cosine\"].append(abs(cosine_result - cleartext_cosine))\n",
        "\n",
        "# Print summary of accuracy statistics\n",
        "print(\"\\nAccuracy Results:\")\n",
        "for metric, values in accuracy_results.items():\n",
        "    print(f\"{metric} Accuracy: Avg={statistics.mean(values)}, Std={statistics.stdev(values)}, Max={max(values)}\")\n",
        "\n",
        "# Print summary of runtime statistics\n",
        "print(\"\\nRuntime Results:\")\n",
        "for step, times in runtime_results.items():\n",
        "    print(f\"{step} Runtime: Avg={statistics.mean(times):.4f}s, Std={statistics.stdev(times):.4f}s, Max={max(times):.4f}s\")\n",
        "\n",
        "# Generate and encrypt two new vectors, then validate cleartext computations\n",
        "cleartext_vector1 = np.random.uniform(0.0, 1.0, size=vector_dim)\n",
        "cleartext_vector2 = np.random.uniform(0.0, 1.0, size=vector_dim)\n",
        "cleartext_euclidean = np.sqrt(np.sum((cleartext_vector1 - cleartext_vector2) ** 2))\n",
        "cleartext_cosine = np.dot(cleartext_vector1, cleartext_vector2) / (\n",
        "    np.linalg.norm(cleartext_vector1) * np.linalg.norm(cleartext_vector2)\n",
        ")\n",
        "print(\"\\nCleartext Results:\")\n",
        "print(f\"Euclidean Distance (Cleartext): {cleartext_euclidean}\")\n",
        "print(f\"Cosine Similarity (Cleartext): {cleartext_cosine}\")\n"
      ]
    }
  ],
  "metadata": {
    "colab": {
      "provenance": []
    },
    "kernelspec": {
      "display_name": "pytorch_env2",
      "language": "python",
      "name": "python3"
    },
    "language_info": {
      "codemirror_mode": {
        "name": "ipython",
        "version": 3
      },
      "file_extension": ".py",
      "mimetype": "text/x-python",
      "name": "python",
      "nbconvert_exporter": "python",
      "pygments_lexer": "ipython3",
      "version": "3.9.0"
    }
  },
  "nbformat": 4,
  "nbformat_minor": 0
}
